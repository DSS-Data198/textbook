{
 "cells": [
  {
   "cell_type": "markdown",
   "metadata": {},
   "source": [
    "# Simple Expressions\n",
    "\n",
    "When learning any new language, whether it’s English, Spanish, or Python, one of the first things you need to grasp is the grammar. In spoken and written languages, grammar dictates how words and phrases are combined to form sentences. In the same way, programming languages have rules that govern how you combine symbols, variables, and operators to create meaningful expressions. These rules are called **syntax**.\n",
    "\n",
    "In Python, expressions are the fundamental building blocks. Just as sentences are the basic units of communication in human languages, expressions are the smallest units of computation in Python that can be evaluated to produce a value."
   ]
  },
  {
   "cell_type": "markdown",
   "metadata": {},
   "source": [
    "## What is an Expression?\n",
    "\n",
    "In Python, an expression is a combination of variables, values, operators, and function calls that Python can interpret and compute to produce a result. It’s like a small equation or statement that Python evaluates to a value. Consider the example below: "
   ]
  },
  {
   "cell_type": "code",
   "execution_count": 3,
   "metadata": {},
   "outputs": [
    {
     "data": {
      "text/plain": [
       "8"
      ]
     },
     "execution_count": 3,
     "metadata": {},
     "output_type": "execute_result"
    }
   ],
   "source": [
    "5 + 3"
   ]
  },
  {
   "cell_type": "markdown",
   "metadata": {},
   "source": [
    "In this expression, `5 + 3` is evaluated by Python, and the result is `8`."
   ]
  },
  {
   "cell_type": "markdown",
   "metadata": {},
   "source": [
    "## Syntax in Python: The Grammar of Programming\n",
    "\n",
    "Just like you can’t randomly string together words in a sentence, you can’t just throw together symbols, numbers, and variables in Python. You must follow Python’s syntax rules—the grammar of the language."
   ]
  },
  {
   "cell_type": "code",
   "execution_count": 6,
   "metadata": {},
   "outputs": [
    {
     "ename": "SyntaxError",
     "evalue": "invalid syntax (3991961965.py, line 1)",
     "output_type": "error",
     "traceback": [
      "\u001b[0;36m  Cell \u001b[0;32mIn[6], line 1\u001b[0;36m\u001b[0m\n\u001b[0;31m    5 + = 3  # This will throw a syntax error\u001b[0m\n\u001b[0m        ^\u001b[0m\n\u001b[0;31mSyntaxError\u001b[0m\u001b[0;31m:\u001b[0m invalid syntax\n"
     ]
    }
   ],
   "source": [
    "5 + = 3  # This will throw a syntax error"
   ]
  },
  {
   "cell_type": "markdown",
   "metadata": {},
   "source": [
    "This example is invalid because Python doesn’t understand what you're trying to say. You can think of it like constructing a sentence with incorrect word order, such as \"ran dog quickly the\" in English. Syntax errors in Python occur when you break its rules of order or structure."
   ]
  },
  {
   "cell_type": "markdown",
   "metadata": {},
   "source": [
    "Float (`float`):\n",
    "\n",
    "Represents real numbers with decimal points. Floats are used when dealing with continuous values, such as measurements or fractional numbers."
   ]
  },
  {
   "cell_type": "markdown",
   "metadata": {},
   "source": [
    "## Types of Python Expressions\n",
    "\n",
    "Python expressions come in many forms. Let’s break down the most common types you’ll encounter:"
   ]
  },
  {
   "cell_type": "markdown",
   "metadata": {},
   "source": [
    "### Arithmetic Expressions\n",
    "Arithmetic expressions are mathematical computations made up of numbers and arithmetic operators."
   ]
  },
  {
   "cell_type": "markdown",
   "metadata": {},
   "source": [
    "**Common Operators.** Expressions can be used to express any sort of arithmetic. The operators below are the most essential for data scientists\n",
    "\n",
    "| Expression Type | Operator | Example    | Value     |\n",
    "|-----------------|----------|------------|-----------|\n",
    "| Addition        | `+`      | `2 + 3`    | `5`       |\n",
    "| Subtraction     | `-`      | `2 - 3`    | `-1`      |\n",
    "| Multiplication  | `*`      | `2 * 3`    | `6`       |\n",
    "| Division        | `/`      | `7 / 3`    | `2.66667` |\n",
    "| Remainder       | `%`      | `7 % 3`    | `1`       |\n",
    "| Exponentiation  | `**`     | `2 ** 0.5` | `1.41421` |"
   ]
  },
  {
   "cell_type": "markdown",
   "metadata": {},
   "source": [
    "Consider some examples below:"
   ]
  },
  {
   "cell_type": "code",
   "execution_count": 1,
   "metadata": {},
   "outputs": [],
   "source": [
    "x = 10 + 5   # Simple addition (evaluates to 15)\n",
    "y = 10 - 3   # Subtraction (evaluates to 7)\n",
    "z = 10 * 2   # Multiplication (evaluates to 20)\n",
    "w = 10 / 2   # Division (evaluates to 5.0)\n",
    "a = 10 ** 2  #Exponentiation (evaluates to 100)\n",
    "b = 10 // 3  # Floor Division (evaluates to)"
   ]
  },
  {
   "cell_type": "markdown",
   "metadata": {},
   "source": [
    "Python evaluates these expressions following the rules of precedence (which operator gets evaluated first, like PEMDAS in math)."
   ]
  },
  {
   "cell_type": "code",
   "execution_count": 9,
   "metadata": {},
   "outputs": [
    {
     "data": {
      "text/plain": [
       "11"
      ]
     },
     "execution_count": 9,
     "metadata": {},
     "output_type": "execute_result"
    }
   ],
   "source": [
    "5 + 3 * 2  # Evaluates to 11, because multiplication is done first"
   ]
  },
  {
   "cell_type": "code",
   "execution_count": 7,
   "metadata": {},
   "outputs": [
    {
     "data": {
      "text/plain": [
       "2024.0"
      ]
     },
     "execution_count": 7,
     "metadata": {},
     "output_type": "execute_result"
    }
   ],
   "source": [
    "1 + 2 * (3 * 4 * 5 / 6) ** 3 + 6 + 5 - 8 + (4 * 5)"
   ]
  },
  {
   "cell_type": "markdown",
   "metadata": {},
   "source": [
    "Just as mastering grammar allows you to communicate clearly in a spoken language, mastering Python's syntax and expressions allows you to write clear and powerful code. Whether you're calculating values, comparing data, or constructing logical conditions, expressions are at the heart of everything you’ll do in Python. Understanding the structure, evaluation, and purpose of Python expressions is essential for any programmer, and it's a critical step on your journey to mastering Python as a whole."
   ]
  }
 ],
 "metadata": {
  "kernelspec": {
   "display_name": "UDUB",
   "language": "python",
   "name": "python3"
  },
  "language_info": {
   "codemirror_mode": {
    "name": "ipython",
    "version": 3
   },
   "file_extension": ".py",
   "mimetype": "text/x-python",
   "name": "python",
   "nbconvert_exporter": "python",
   "pygments_lexer": "ipython3",
   "version": "3.12.2"
  }
 },
 "nbformat": 4,
 "nbformat_minor": 2
}
