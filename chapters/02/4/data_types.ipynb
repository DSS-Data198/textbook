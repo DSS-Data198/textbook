{
 "cells": [
  {
   "cell_type": "markdown",
   "metadata": {},
   "source": [
    "# Simple Expressions\n",
    "\n",
    "When learning any new language, whether it’s English, Spanish, or Python, one of the first things you need to grasp is the grammar. In spoken and written languages, grammar dictates how words and phrases are combined to form sentences. In the same way, programming languages have rules that govern how you combine symbols, variables, and operators to create meaningful expressions. These rules are called **syntax**.\n",
    "\n",
    "In Python, expressions are the fundamental building blocks. Just as sentences are the basic units of communication in human languages, expressions are the smallest units of computation in Python that can be evaluated to produce a value."
   ]
  },
  {
   "cell_type": "markdown",
   "metadata": {},
   "source": [
    "## What is an Expression?\n",
    "\n",
    "In Python, an expression is a combination of variables, values, operators, and function calls that Python can interpret and compute to produce a result. It’s like a small equation or statement that Python evaluates to a value. Consider the example below: "
   ]
  },
  {
   "cell_type": "code",
   "execution_count": 3,
   "metadata": {},
   "outputs": [
    {
     "data": {
      "text/plain": [
       "8"
      ]
     },
     "execution_count": 3,
     "metadata": {},
     "output_type": "execute_result"
    }
   ],
   "source": [
    "5 + 3"
   ]
  },
  {
   "cell_type": "markdown",
   "metadata": {},
   "source": [
    "In this expression, `5 + 3` is evaluated by Python, and the result is `8`."
   ]
  },
  {
   "cell_type": "markdown",
   "metadata": {},
   "source": [
    "## Syntax in Python: The Grammar of Programming\n",
    "\n",
    "Just like you can’t randomly string together words in a sentence, you can’t just throw together symbols, numbers, and variables in Python. You must follow Python’s syntax rules—the grammar of the language."
   ]
  },
  {
   "cell_type": "code",
   "execution_count": 6,
   "metadata": {},
   "outputs": [
    {
     "ename": "SyntaxError",
     "evalue": "invalid syntax (3991961965.py, line 1)",
     "output_type": "error",
     "traceback": [
      "\u001b[0;36m  Cell \u001b[0;32mIn[6], line 1\u001b[0;36m\u001b[0m\n\u001b[0;31m    5 + = 3  # This will throw a syntax error\u001b[0m\n\u001b[0m        ^\u001b[0m\n\u001b[0;31mSyntaxError\u001b[0m\u001b[0;31m:\u001b[0m invalid syntax\n"
     ]
    }
   ],
   "source": [
    "5 + = 3  # This will throw a syntax error"
   ]
  },
  {
   "cell_type": "markdown",
   "metadata": {},
   "source": [
    "This example is invalid because Python doesn’t understand what you're trying to say. You can think of it like constructing a sentence with incorrect word order, such as \"ran dog quickly the\" in English. Syntax errors in Python occur when you break its rules of order or structure."
   ]
  },
  {
   "cell_type": "markdown",
   "metadata": {},
   "source": [
    "Float (`float`):\n",
    "\n",
    "Represents real numbers with decimal points. Floats are used when dealing with continuous values, such as measurements or fractional numbers."
   ]
  },
  {
   "cell_type": "markdown",
   "metadata": {},
   "source": [
    "## Types of Python Expressions\n",
    "\n",
    "Python expressions come in many forms. Let’s break down the most common types you’ll encounter:"
   ]
  },
  {
   "cell_type": "markdown",
   "metadata": {},
   "source": [
    "### Arithmetic Expressions\n",
    "Arithmetic expressions are mathematical computations made up of numbers and arithmetic operators."
   ]
  },
  {
   "cell_type": "code",
   "execution_count": 7,
   "metadata": {},
   "outputs": [],
   "source": [
    "x = 10 + 5   # Simple addition (evaluates to 15)\n",
    "y = 10 - 3   # Subtraction (evaluates to 7)\n",
    "z = 10 * 2   # Multiplication (evaluates to 20)\n",
    "w = 10 / 2   # Division (evaluates to 5.0)\n",
    "a = 10 ** 2  #Exponentiation (evaluates to 100)\n",
    "b = 10 // 3  # Floor Division (evaluates to)"
   ]
  },
  {
   "cell_type": "markdown",
   "metadata": {},
   "source": [
    "Operators:\n",
    "* `+` for addition\n",
    "\n",
    "* `-` for subtraction\n",
    "\n",
    "* `*` for multiplication\n",
    "\n",
    "* `/` for division"
   ]
  },
  {
   "cell_type": "markdown",
   "metadata": {},
   "source": [
    "Python evaluates these expressions following the rules of precedence (which operator gets evaluated first, like PEMDAS in math)."
   ]
  },
  {
   "cell_type": "code",
   "execution_count": 9,
   "metadata": {},
   "outputs": [
    {
     "data": {
      "text/plain": [
       "11"
      ]
     },
     "execution_count": 9,
     "metadata": {},
     "output_type": "execute_result"
    }
   ],
   "source": [
    "5 + 3 * 2  # Evaluates to 11, because multiplication is done first"
   ]
  },
  {
   "cell_type": "markdown",
   "metadata": {},
   "source": [
    "String (`str`):\n",
    "\n",
    "Represents sequences of characters, enclosed in single, double, or triple quotes. Strings are commonly used for text manipulation."
   ]
  },
  {
   "cell_type": "code",
   "execution_count": 6,
   "metadata": {},
   "outputs": [],
   "source": [
    "greeting = \"Hello, World!\""
   ]
  },
  {
   "cell_type": "markdown",
   "metadata": {},
   "source": [
    "Boolean (`bool`):\n",
    "\n",
    "Represents truth values: True or False. Booleans are essential for conditional logic (e.g., decision-making in code)."
   ]
  },
  {
   "cell_type": "code",
   "execution_count": 8,
   "metadata": {},
   "outputs": [],
   "source": [
    "is_active = True"
   ]
  },
  {
   "cell_type": "markdown",
   "metadata": {},
   "source": [
    "### Putting them all together"
   ]
  },
  {
   "cell_type": "code",
   "execution_count": 9,
   "metadata": {},
   "outputs": [],
   "source": [
    "a = 10        # integer\n",
    "b = 3.14      # float\n",
    "c = a + b     # adding an integer and a float"
   ]
  },
  {
   "cell_type": "markdown",
   "metadata": {},
   "source": [
    "`a = 10`:\n",
    "* We assign the integer `10` to the variable a.\n",
    "* In Python, integers can be positive or negative whole numbers.\n",
    "\n",
    "`b = 3.14`:\n",
    "* We assign the float `3.14` to the variable b.\n",
    "* A float is a number with a decimal point.\n",
    "\n",
    "`c = a + b`:\n",
    "* We add a (which is `10`) and b (which is `3.14`).\n",
    "* Python automatically converts the integer a to a float during the addition.\n",
    "\n",
    "So, `c` will be `13.14`, and `c` becomes a float."
   ]
  },
  {
   "cell_type": "markdown",
   "metadata": {},
   "source": [
    "### String Manipulation\n",
    "\n",
    "Strings are a sequence of characters that represent text data, and they can be manipulated in various ways."
   ]
  },
  {
   "cell_type": "code",
   "execution_count": 10,
   "metadata": {},
   "outputs": [],
   "source": [
    "greeting = \"Hello, \" + \"World!\"\n",
    "name = \"Sid\""
   ]
  },
  {
   "cell_type": "markdown",
   "metadata": {},
   "source": [
    "`greeting = \"Hello, \" + \"World!\"`:\n",
    "* We are using concatenation here, which means we are joining two strings together.\n",
    "* The + operator for strings appends one string to another. So greeting becomes `\"Hello, World!\"`."
   ]
  },
  {
   "cell_type": "markdown",
   "metadata": {},
   "source": [
    "### Adding Booleans"
   ]
  },
  {
   "cell_type": "markdown",
   "metadata": {},
   "source": [
    "In Python, `True` and `False` are actually treated as `1` and `0`, respectively, when you use them in arithmetic expressions. This means you can add, subtract, and even multiply booleans as if they were numbers."
   ]
  },
  {
   "cell_type": "code",
   "execution_count": 14,
   "metadata": {},
   "outputs": [],
   "source": [
    "a = True   # equivalent to 1\n",
    "b = False  # equivalent to 0\n",
    "\n",
    "result = a + b  # this will be 1 (True + False = 1 + 0 = 1)"
   ]
  },
  {
   "cell_type": "markdown",
   "metadata": {},
   "source": [
    "* `True` behaves like the integer `1`, and `False` behaves like `0`.\n",
    "\n",
    "* When you add `True + True`, it’s like adding `1 + 1`, so the result will be `2`.\n",
    "\n",
    "* When you add `True + False`, it’s like adding `1 + 0`, so the result will be `1`."
   ]
  }
 ],
 "metadata": {
  "kernelspec": {
   "display_name": "UDUB",
   "language": "python",
   "name": "python3"
  },
  "language_info": {
   "codemirror_mode": {
    "name": "ipython",
    "version": 3
   },
   "file_extension": ".py",
   "mimetype": "text/x-python",
   "name": "python",
   "nbconvert_exporter": "python",
   "pygments_lexer": "ipython3",
   "version": "3.12.2"
  }
 },
 "nbformat": 4,
 "nbformat_minor": 2
}
